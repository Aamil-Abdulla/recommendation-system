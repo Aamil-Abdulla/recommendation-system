{
 "cells": [
  {
   "cell_type": "code",
   "execution_count": 85,
   "id": "8db919e2",
   "metadata": {},
   "outputs": [],
   "source": [
    "import pandas as pd\n",
    "from surprise import Dataset, Reader , SVD , accuracy\n",
    "from surprise.model_selection import train_test_split, GridSearchCV\n",
    "from sklearn.feature_extraction.text import TfidfVectorizer\n",
    "from sklearn.decomposition import TruncatedSVD\n",
    "from sklearn.neighbors import NearestNeighbors\n",
    "from sklearn.preprocessing import MinMaxScaler\n",
    "from sklearn.metrics import mean_squared_error , mean_absolute_error\n",
    "from tensorflow.keras.layers import Input , Embedding , Flatten , Dense , Concatenate\n",
    "from tensorflow.keras.models import Model \n",
    "from tensorflow.keras.optimizers import Adam\n",
    "import warnings\n",
    "warnings.filterwarnings('ignore')\n",
    "from collections import defaultdict"
   ]
  },
  {
   "cell_type": "code",
   "execution_count": 86,
   "id": "0c9760b6",
   "metadata": {},
   "outputs": [],
   "source": [
    "import pandas as pd\n",
    "from surprise import Dataset , SVD , Reader , accuracy\n"
   ]
  },
  {
   "cell_type": "code",
   "execution_count": 87,
   "id": "17fb5f21",
   "metadata": {},
   "outputs": [],
   "source": [
    "from scipy.sparse import csr_matrix\n"
   ]
  },
  {
   "cell_type": "code",
   "execution_count": 88,
   "id": "0fa07579",
   "metadata": {},
   "outputs": [
    {
     "data": {
      "text/html": [
       "<div>\n",
       "<style scoped>\n",
       "    .dataframe tbody tr th:only-of-type {\n",
       "        vertical-align: middle;\n",
       "    }\n",
       "\n",
       "    .dataframe tbody tr th {\n",
       "        vertical-align: top;\n",
       "    }\n",
       "\n",
       "    .dataframe thead th {\n",
       "        text-align: right;\n",
       "    }\n",
       "</style>\n",
       "<table border=\"1\" class=\"dataframe\">\n",
       "  <thead>\n",
       "    <tr style=\"text-align: right;\">\n",
       "      <th></th>\n",
       "      <th>userId</th>\n",
       "      <th>itemId</th>\n",
       "      <th>rating</th>\n",
       "      <th>timestamp</th>\n",
       "    </tr>\n",
       "  </thead>\n",
       "  <tbody>\n",
       "    <tr>\n",
       "      <th>0</th>\n",
       "      <td>196</td>\n",
       "      <td>242</td>\n",
       "      <td>3.0</td>\n",
       "      <td>881250949</td>\n",
       "    </tr>\n",
       "    <tr>\n",
       "      <th>1</th>\n",
       "      <td>186</td>\n",
       "      <td>302</td>\n",
       "      <td>3.0</td>\n",
       "      <td>891717742</td>\n",
       "    </tr>\n",
       "    <tr>\n",
       "      <th>2</th>\n",
       "      <td>22</td>\n",
       "      <td>377</td>\n",
       "      <td>1.0</td>\n",
       "      <td>878887116</td>\n",
       "    </tr>\n",
       "    <tr>\n",
       "      <th>3</th>\n",
       "      <td>244</td>\n",
       "      <td>51</td>\n",
       "      <td>2.0</td>\n",
       "      <td>880606923</td>\n",
       "    </tr>\n",
       "    <tr>\n",
       "      <th>4</th>\n",
       "      <td>166</td>\n",
       "      <td>346</td>\n",
       "      <td>1.0</td>\n",
       "      <td>886397596</td>\n",
       "    </tr>\n",
       "  </tbody>\n",
       "</table>\n",
       "</div>"
      ],
      "text/plain": [
       "  userId itemId  rating  timestamp\n",
       "0    196    242     3.0  881250949\n",
       "1    186    302     3.0  891717742\n",
       "2     22    377     1.0  878887116\n",
       "3    244     51     2.0  880606923\n",
       "4    166    346     1.0  886397596"
      ]
     },
     "execution_count": 88,
     "metadata": {},
     "output_type": "execute_result"
    }
   ],
   "source": [
    "data = Dataset.load_builtin('ml-100k')\n",
    "raw_ratings = data.raw_ratings\n",
    "df = pd.DataFrame(raw_ratings , columns=[\"userId\" , \"itemId\" , \"rating\",\"timestamp\"])\n",
    "df.head()"
   ]
  },
  {
   "cell_type": "code",
   "execution_count": 89,
   "id": "c53234de",
   "metadata": {},
   "outputs": [],
   "source": [
    "user_item_matrix = df.pivot(index=\"userId\", columns=\"itemId\", values=\"rating\").fillna(0)\n",
    "csr_data = csr_matrix(user_item_matrix.values)"
   ]
  },
  {
   "cell_type": "code",
   "execution_count": 90,
   "id": "fd4b2210",
   "metadata": {},
   "outputs": [],
   "source": [
    "#Tuning HyperParameters\n",
    "from surprise.model_selection import GridSearchCV\n",
    "param_grid = {\n",
    "    'n_factors': [20, 50, 100],  # no  of latent features\n",
    "    'lr_all': [0.002, 0.005, 0.01], #learrning Rate\n",
    "    'reg_all': [0.02, 0.1, 0.2] #Rgularization strrength penalizes large weights in latent features or biases\n",
    "}\n"
   ]
  },
  {
   "cell_type": "code",
   "execution_count": 91,
   "id": "12a9d660",
   "metadata": {},
   "outputs": [],
   "source": [
    "cv = GridSearchCV(SVD , param_grid, measures=[\"rmse\",\"mae\"] , cv= 3 , n_jobs=-1 , joblib_verbose=1 )"
   ]
  },
  {
   "cell_type": "code",
   "execution_count": 92,
   "id": "4159f4e5",
   "metadata": {},
   "outputs": [
    {
     "name": "stderr",
     "output_type": "stream",
     "text": [
      "[Parallel(n_jobs=-1)]: Using backend LokyBackend with 8 concurrent workers.\n",
      "[Parallel(n_jobs=-1)]: Done  34 tasks      | elapsed:    8.4s\n",
      "[Parallel(n_jobs=-1)]: Done  81 out of  81 | elapsed:   19.5s finished\n"
     ]
    }
   ],
   "source": [
    "cv.fit(data)"
   ]
  },
  {
   "cell_type": "code",
   "execution_count": 93,
   "id": "500e4b60",
   "metadata": {},
   "outputs": [
    {
     "name": "stdout",
     "output_type": "stream",
     "text": [
      "0.9281127890192854\n",
      "{'n_factors': 100, 'lr_all': 0.01, 'reg_all': 0.1}\n"
     ]
    }
   ],
   "source": [
    "print(cv.best_score[\"rmse\"])\n",
    "print(cv.best_params[\"rmse\"])"
   ]
  },
  {
   "cell_type": "code",
   "execution_count": 94,
   "id": "15eae85f",
   "metadata": {},
   "outputs": [],
   "source": [
    "from surprise.model_selection import train_test_split\n",
    "trainset , testset = train_test_split(data , test_size=0.2 , random_state=42)"
   ]
  },
  {
   "cell_type": "code",
   "execution_count": 95,
   "id": "b9a4ad08",
   "metadata": {},
   "outputs": [
    {
     "data": {
      "text/plain": [
       "<surprise.prediction_algorithms.matrix_factorization.SVD at 0x1662350a9c0>"
      ]
     },
     "execution_count": 95,
     "metadata": {},
     "output_type": "execute_result"
    }
   ],
   "source": [
    "best_params = cv.best_params[\"rmse\"]\n",
    "model_svd = SVD(n_factors = best_params[\"n_factors\"],\n",
    "                lr_all = best_params[\"lr_all\"], \n",
    "                reg_all = best_params[\"reg_all\"])\n",
    "model_svd.fit(trainset)"
   ]
  },
  {
   "cell_type": "code",
   "execution_count": 96,
   "id": "a351e3f8",
   "metadata": {},
   "outputs": [],
   "source": [
    "pred = model_svd.test(testset)"
   ]
  },
  {
   "cell_type": "code",
   "execution_count": 97,
   "id": "746b08bd",
   "metadata": {},
   "outputs": [
    {
     "name": "stdout",
     "output_type": "stream",
     "text": [
      "RMSE: 0.9198\n",
      "0.91978849480023\n",
      "MAE:  0.7272\n",
      "0.7271823475164751\n"
     ]
    }
   ],
   "source": [
    "print(accuracy.rmse(pred))\n",
    "print(accuracy.mae(pred))"
   ]
  },
  {
   "cell_type": "code",
   "execution_count": 98,
   "id": "6ebd02dc",
   "metadata": {},
   "outputs": [
    {
     "name": "stdout",
     "output_type": "stream",
     "text": [
      "user: 196        item: 302        r_ui = None   est = 3.58   {'was_impossible': False}\n"
     ]
    }
   ],
   "source": [
    "prediction = model_svd.predict(uid='196',iid=302)\n",
    "print(prediction)"
   ]
  },
  {
   "cell_type": "code",
   "execution_count": 99,
   "id": "f137a222",
   "metadata": {},
   "outputs": [
    {
     "name": "stdout",
     "output_type": "stream",
     "text": [
      "\n",
      "Predicted rating by user 196 for item 302: 3.58\n"
     ]
    }
   ],
   "source": [
    "print(f\"\\nPredicted rating by user 196 for item 302: {prediction.est:.2f}\")"
   ]
  },
  {
   "cell_type": "code",
   "execution_count": 100,
   "id": "9cb5d9ad",
   "metadata": {},
   "outputs": [],
   "source": [
    "#For getting a List of all user and item id\n",
    "all_users = set([str(uid) for (uid, _, _, _) in data.raw_ratings])\n",
    "all_items = set([str(iid) for (_, iid, _, _) in data.raw_ratings])"
   ]
  },
  {
   "cell_type": "code",
   "execution_count": 101,
   "id": "4c05ab6a",
   "metadata": {},
   "outputs": [],
   "source": [
    "train_set_items = set((trainset.to_raw_uid(u) , trainset.to_raw_iid(i)) for (u ,i , _) in trainset.all_ratings())\n",
    "test_candidates = [(u,i) for u in all_users for i in all_items if (u,i) not in train_set_items]"
   ]
  },
  {
   "cell_type": "code",
   "execution_count": 102,
   "id": "9d651579",
   "metadata": {},
   "outputs": [],
   "source": [
    "predictions = model_svd.test([(u,i,0) for (u,i) in test_candidates])"
   ]
  },
  {
   "cell_type": "code",
   "execution_count": 106,
   "id": "955a8267",
   "metadata": {},
   "outputs": [
    {
     "name": "stdout",
     "output_type": "stream",
     "text": [
      "Top 5 recommendations for user 196:\n",
      "Item 318: Predicted rating 4.46\n",
      "Item 603: Predicted rating 4.41\n",
      "Item 483: Predicted rating 4.40\n",
      "Item 488: Predicted rating 4.39\n",
      "Item 64: Predicted rating 4.38\n"
     ]
    }
   ],
   "source": [
    "# function for top n recommendation\n",
    "def get_top_n (predictions ,  n=5 ): \n",
    "    top_n = defaultdict(list)\n",
    "    \n",
    "    for pred in predictions:\n",
    "        top_n[pred.uid].append((pred.iid, pred.est))\n",
    "\n",
    "# sort prediction for each user\n",
    "    for uid , user_ratings in top_n.items():\n",
    "        user_ratings.sort(key = lambda x:x[1], reverse = True)\n",
    "        top_n[uid] = user_ratings[:n]\n",
    "\n",
    "    return top_n\n",
    "\n",
    "top_n_recs = get_top_n(predictions , n=5)\n",
    "\n",
    "\n",
    "# Example: print recommendations for user '196'\n",
    "print(\"Top 5 recommendations for user 196:\")\n",
    "for item_id, est_rating in top_n_recs['196']:\n",
    "    print(f\"Item {item_id}: Predicted rating {est_rating:.2f}\")"
   ]
  },
  {
   "cell_type": "code",
   "execution_count": null,
   "id": "d9db8ed5",
   "metadata": {},
   "outputs": [],
   "source": []
  }
 ],
 "metadata": {
  "kernelspec": {
   "display_name": "rec-sys-env",
   "language": "python",
   "name": "python3"
  },
  "language_info": {
   "codemirror_mode": {
    "name": "ipython",
    "version": 3
   },
   "file_extension": ".py",
   "mimetype": "text/x-python",
   "name": "python",
   "nbconvert_exporter": "python",
   "pygments_lexer": "ipython3",
   "version": "3.12.0"
  }
 },
 "nbformat": 4,
 "nbformat_minor": 5
}
